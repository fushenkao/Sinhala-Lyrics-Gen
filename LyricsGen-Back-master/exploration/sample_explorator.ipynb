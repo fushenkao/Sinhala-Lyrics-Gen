{
 "cells": [
  {
   "cell_type": "heading",
   "metadata": {
    "collapsed": true
   },
   "level": 1,
   "source": [
    "Sample : try and evaluate your model"
   ]
  },
  {
   "cell_type": "markdown",
   "metadata": {},
   "source": [
    "The goal of this doc is to get the best generation function and to play with it."
   ]
  },
  {
   "cell_type": "code",
   "execution_count": 1,
   "metadata": {},
   "outputs": [
    {
     "name": "stderr",
     "output_type": "stream",
     "text": [
      "Using TensorFlow backend.\n"
     ]
    }
   ],
   "source": [
    "from textgenrnn import textgenrnn"
   ]
  },
  {
   "cell_type": "markdown",
   "metadata": {},
   "source": [
    "Load the model. Change paths if necessary."
   ]
  },
  {
   "cell_type": "code",
   "execution_count": 2,
   "metadata": {},
   "outputs": [],
   "source": [
    "textgen = textgenrnn(config_path='weights/RapLyrics_word2_01_config.json',\n",
    "                     vocab_path='weights/RapLyrics_word2_01_vocab.json',\n",
    "                     weights_path='weights/RapLyrics_word2_01_weights.hdf5')\n"
   ]
  },
  {
   "cell_type": "code",
   "execution_count": 3,
   "metadata": {},
   "outputs": [],
   "source": [
    "import sampler"
   ]
  },
  {
   "cell_type": "markdown",
   "metadata": {},
   "source": [
    "Test with a prefix. Change prefix if necessary. Let it blank to have a purely random generation.  \n",
    "Add temperatures between 0.1 and 1.5 to see the difference. Temperatures lower than one will increase conservativeness."
   ]
  },
  {
   "cell_type": "code",
   "execution_count": 4,
   "metadata": {},
   "outputs": [
    {
     "name": "stdout",
     "output_type": "stream",
     "text": [
      "hustle 'til the day of living\nand that bitch came from a nigga\nwith nothin'\nwith nothin' to talk about the shit that you just seen\nmy reflection is a highly coveted charges\ni know you think that you can hold your hand down\n"
     ]
    },
    {
     "name": "stdout",
     "output_type": "stream",
     "text": [
      "hustle 'til i see the dirt\ni don't know what i do is but it's been a while since i've i've been rough i've been honest cuts\nhad a call that thought before he was the wife\ni get my word around here\nis the new man\nis the new man fly as shit\n"
     ]
    },
    {
     "name": "stdout",
     "output_type": "stream",
     "text": [
      "hustle another game to the dice game\nyou niggas don't like me\nand niggas stuck in the club with a time to make it\nall this shit got my girl trippin' like it's a cal now\ni got now this looks like a kid on my town\nand i'm single son this is what i'm talking like\ngo on and show it i promise it\n\n"
     ]
    },
    {
     "name": "stdout",
     "output_type": "stream",
     "text": [
      "hustle 'til the blow back goes one and you still\ni can't even start losing control\ni don't wanna feel the bottom the whole world here\nmy heart is falling apart\nlookin' for the world that they can see\nand you know what time it is\ni can't doubt it\nthat pretty muthafucka knocked up\nthe corners of a bigger nigga are bigger than guns fight\n\n"
     ]
    }
   ],
   "source": [
    "prefix = \"hustle\"\n",
    "for i in range(4):\n",
    "    output = sampler.lyrics_generator(textgen, prefix, prefix_mode=2, temperatures=[0.7])\n",
    "    print(output)"
   ]
  }
 ],
 "metadata": {
  "kernelspec": {
   "display_name": "Python 2",
   "language": "python",
   "name": "python2"
  },
  "language_info": {
   "codemirror_mode": {
    "name": "ipython",
    "version": 2
   },
   "file_extension": ".py",
   "mimetype": "text/x-python",
   "name": "python",
   "nbconvert_exporter": "python",
   "pygments_lexer": "ipython2",
   "version": "2.7.6"
  }
 },
 "nbformat": 4,
 "nbformat_minor": 0
}
